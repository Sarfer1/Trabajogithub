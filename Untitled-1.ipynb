{
 "cells": [
  {
   "cell_type": "code",
   "execution_count": null,
   "metadata": {},
   "outputs": [],
   "source": [
    "int main () {\n",
    "    // Declaracion de variables de diferentes tipos\n",
    "\n",
    "    int edad;\n",
    "    float altura ;\n",
    "    char Nombre[50] ;\n",
    "    // Mensaje de bienvenida\n",
    "\n",
    "    printf(\"¡Bienvenido al programa de entrada y salidaC!\\n\");\n",
    "\n",
    "    // Solicitar al usuario que ingrese su Nombre\n",
    "    printf(\"Por favor, introduce tu nombre;\");\n",
    "    scanf(\"%s\", nombre);\n",
    "\n",
    "    // Solicitar al usuario que ingrese su edad\n",
    "    printf(\"Introduce tu edad: \");\n",
    "    scanf(\"%d\", &edad);\n",
    "\n",
    "    // Solicitar al usuario que ingrese su altura\n",
    "    printf(\"Introduce tu altura en metros (por ejemplo, 1.75): \");\n",
    "    scanf(\"%f\", &altura);\n",
    "\n",
    "    // Solicitar al usuario que ingrese su peso\n",
    "    printf(\"Introduce tu peso en kilogramos (por ejemplo, 70.5): \");\n",
    "    scanf(\"%lf\", &peso);\n",
    "\n",
    "    // Mostrar los valores ingresados por el usuario\n",
    "    printf(\"\\nValores ingresados:\\n\");\n",
    "    printf(\"Nombre: %s\\n\", nombre);\n",
    "    printf(\"Edad: %d años\\n\", edad);\n",
    "    printf(\"Altura: %.2f metros\\n\", altura);\n",
    "    printf(\"Peso: %.2lf kilogramos\\n\", peso);\n",
    "\n",
    "    return 0;\n",
    "}"
   ]
  }
 ],
 "metadata": {
  "language_info": {
   "name": "python"
  }
 },
 "nbformat": 4,
 "nbformat_minor": 2
}
